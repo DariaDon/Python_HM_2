{
 "cells": [
  {
   "cell_type": "markdown",
   "metadata": {
    "id": "01nf2RR5SrHP"
   },
   "source": [
    "# Домашнее задание №2\n"
   ]
  },
  {
   "cell_type": "markdown",
   "metadata": {
    "id": "GlxtZK2zSx5O"
   },
   "source": [
    "Перед вами датасет с данными о вреде курения\n",
    "\n",
    "\n",
    "Структура данных:\n",
    "\n",
    "1. **gender**: Пол пациента\n",
    "2. **age**: Возраст пациента\n",
    "3. **hypertension**: Наличие гипертонии у пациента 1 - есть, 0 - не наблюдалось\n",
    "4. **heart_disease**: Наличие у пациента болезней связанных с сердцем 1 - есть, 0 - здоров\n",
    "5. **ever_married**: Брак - (Состоял в браке/ холост)\n",
    "6. **work_type**: Работ - Ребенок(children), Госслужащий(Govt_jov), Никогда не работал(Never_worked), Самозанятый(self-employed) или Скрыто(private)\n",
    "7. **Residence_type**: место работы городская среда(Urban)/удаленка или за городом(Rural)\n",
    "8. **avg_glucose_level**: средний уровень глюкозы в крови\n",
    "9. **bmi**: индекс массы тела\n",
    "10. **smoking_status**: Пациент курит(Иногда, всегда, время от времени или Unknown - неизвестно)\n",
    "11. **stroke**: Перенесенный инсульт (1 - пациент перенес инсульт, 0 - инсульта не было) - *ваш target*"
   ]
  },
  {
   "cell_type": "markdown",
   "metadata": {
    "id": "CHB6jMIwVltb"
   },
   "source": [
    "## Ваша задача\n",
    "\n",
    "№1 Восстановить целостностью данных, реализовать функцию позволяющие выполнять заполнение данных по среднему или по медианному значению в Series. \n",
    "\n",
    "1.  Заполнить пропуски\n",
    "2.  Убрать дубликаты\n",
    "3.  Убрать некорректные данные и.т.п.\n",
    "\n",
    "\n",
    "№2 Построить baseline-модель, попытаться выбить лучший скор (сравнить несколько моделей)\n",
    "\n",
    "№3 Сделать визуализацию для мини-исследования о вреде курения с разбивкой по половой принадлежности пациентов с помощью pandas, matplotlib, seaborn, plotly и других инструментов."
   ]
  },
  {
   "cell_type": "code",
   "execution_count": 40,
   "metadata": {
    "colab": {
     "background_save": true
    },
    "id": "afEGWnR_FgfW"
   },
   "outputs": [],
   "source": [
    "import pandas as pd\n",
    "import numpy as np\n",
    "import matplotlib.pyplot as plt\n",
    "import seaborn as sns\n",
    "import warnings\n",
    "from sklearn.preprocessing import OrdinalEncoder, StandardScaler\n",
    "from imblearn.under_sampling import NearMiss\n",
    "from sklearn.model_selection import GridSearchCV, train_test_split\n",
    "from sklearn.metrics import classification_report\n",
    "from sklearn.ensemble import RandomForestClassifier\n",
    "from xgboost import XGBClassifier\n",
    "from catboost import CatBoostClassifier"
   ]
  },
  {
   "cell_type": "code",
   "execution_count": 136,
   "metadata": {
    "colab": {
     "background_save": true
    },
    "id": "Zld-9ebpFmNb"
   },
   "outputs": [],
   "source": [
    "url = 'https://drive.google.com/file/d/1He5GI5_Gd8uXYfeETLBISQ5BszX0o4pU/view?usp=sharing'\n",
    "url = 'https://drive.google.com/uc?id=' + url.split('/')[-2]\n",
    "data = pd.read_csv(url, names=['index','gender', 'age', 'hypertension', 'heart_disease',\n",
    "       'ever_married', 'work_type', 'Residence_type', 'avg_glucose_level',\n",
    "       'bmi', 'smoking_status', 'stroke'])\n",
    "data = data.drop('index', axis=1)"
   ]
  },
  {
   "cell_type": "code",
   "execution_count": 137,
   "metadata": {
    "colab": {
     "base_uri": "https://localhost:8080/",
     "height": 359
    },
    "id": "_F0TmO9aG69c",
    "outputId": "7705b7db-554a-4ce4-88c2-2b440cbddb48",
    "scrolled": false
   },
   "outputs": [
    {
     "data": {
      "text/html": [
       "<div>\n",
       "<style scoped>\n",
       "    .dataframe tbody tr th:only-of-type {\n",
       "        vertical-align: middle;\n",
       "    }\n",
       "\n",
       "    .dataframe tbody tr th {\n",
       "        vertical-align: top;\n",
       "    }\n",
       "\n",
       "    .dataframe thead th {\n",
       "        text-align: right;\n",
       "    }\n",
       "</style>\n",
       "<table border=\"1\" class=\"dataframe\">\n",
       "  <thead>\n",
       "    <tr style=\"text-align: right;\">\n",
       "      <th></th>\n",
       "      <th>gender</th>\n",
       "      <th>age</th>\n",
       "      <th>hypertension</th>\n",
       "      <th>heart_disease</th>\n",
       "      <th>ever_married</th>\n",
       "      <th>work_type</th>\n",
       "      <th>Residence_type</th>\n",
       "      <th>avg_glucose_level</th>\n",
       "      <th>bmi</th>\n",
       "      <th>smoking_status</th>\n",
       "      <th>stroke</th>\n",
       "    </tr>\n",
       "  </thead>\n",
       "  <tbody>\n",
       "    <tr>\n",
       "      <th>0</th>\n",
       "      <td>gender</td>\n",
       "      <td>age</td>\n",
       "      <td>hypertension</td>\n",
       "      <td>heart_disease</td>\n",
       "      <td>ever_married</td>\n",
       "      <td>work_type</td>\n",
       "      <td>Residence_type</td>\n",
       "      <td>avg_glucose_level</td>\n",
       "      <td>bmi</td>\n",
       "      <td>smoking_status</td>\n",
       "      <td>stroke</td>\n",
       "    </tr>\n",
       "    <tr>\n",
       "      <th>1</th>\n",
       "      <td>gender</td>\n",
       "      <td>age</td>\n",
       "      <td>hypertension</td>\n",
       "      <td>heart_disease</td>\n",
       "      <td>ever_married</td>\n",
       "      <td>work_type</td>\n",
       "      <td>Residence_type</td>\n",
       "      <td>avg_glucose_level</td>\n",
       "      <td>bmi</td>\n",
       "      <td>smoking_status</td>\n",
       "      <td>stroke</td>\n",
       "    </tr>\n",
       "    <tr>\n",
       "      <th>2</th>\n",
       "      <td>Male</td>\n",
       "      <td>67.0</td>\n",
       "      <td>0.0</td>\n",
       "      <td>1.0</td>\n",
       "      <td>Yes</td>\n",
       "      <td>Private</td>\n",
       "      <td>Urban</td>\n",
       "      <td>228.69</td>\n",
       "      <td>NaN</td>\n",
       "      <td>formerly smoked</td>\n",
       "      <td>1</td>\n",
       "    </tr>\n",
       "    <tr>\n",
       "      <th>3</th>\n",
       "      <td>Female</td>\n",
       "      <td>61.0</td>\n",
       "      <td>0.0</td>\n",
       "      <td>0.0</td>\n",
       "      <td>Yes</td>\n",
       "      <td>Self-employed</td>\n",
       "      <td>Rural</td>\n",
       "      <td>202.21</td>\n",
       "      <td>NaN</td>\n",
       "      <td>never smoked</td>\n",
       "      <td>1</td>\n",
       "    </tr>\n",
       "    <tr>\n",
       "      <th>4</th>\n",
       "      <td>Male</td>\n",
       "      <td>80.0</td>\n",
       "      <td>0.0</td>\n",
       "      <td>1.0</td>\n",
       "      <td>Yes</td>\n",
       "      <td>Private</td>\n",
       "      <td>NaN</td>\n",
       "      <td>105.92</td>\n",
       "      <td>32.5</td>\n",
       "      <td>never smoked</td>\n",
       "      <td>1</td>\n",
       "    </tr>\n",
       "    <tr>\n",
       "      <th>...</th>\n",
       "      <td>...</td>\n",
       "      <td>...</td>\n",
       "      <td>...</td>\n",
       "      <td>...</td>\n",
       "      <td>...</td>\n",
       "      <td>...</td>\n",
       "      <td>...</td>\n",
       "      <td>...</td>\n",
       "      <td>...</td>\n",
       "      <td>...</td>\n",
       "      <td>...</td>\n",
       "    </tr>\n",
       "    <tr>\n",
       "      <th>5107</th>\n",
       "      <td>Female</td>\n",
       "      <td>80.0</td>\n",
       "      <td>1.0</td>\n",
       "      <td>0.0</td>\n",
       "      <td>Yes</td>\n",
       "      <td>Private</td>\n",
       "      <td>Urban</td>\n",
       "      <td>83.75</td>\n",
       "      <td>NaN</td>\n",
       "      <td>never smoked</td>\n",
       "      <td>0</td>\n",
       "    </tr>\n",
       "    <tr>\n",
       "      <th>5108</th>\n",
       "      <td>Female</td>\n",
       "      <td>81.0</td>\n",
       "      <td>0.0</td>\n",
       "      <td>0.0</td>\n",
       "      <td>Yes</td>\n",
       "      <td>Self-employed</td>\n",
       "      <td>Urban</td>\n",
       "      <td>125.2</td>\n",
       "      <td>40.0</td>\n",
       "      <td>never smoked</td>\n",
       "      <td>0</td>\n",
       "    </tr>\n",
       "    <tr>\n",
       "      <th>5109</th>\n",
       "      <td>Female</td>\n",
       "      <td>35.0</td>\n",
       "      <td>0.0</td>\n",
       "      <td>0.0</td>\n",
       "      <td>Yes</td>\n",
       "      <td>Self-employed</td>\n",
       "      <td>Rural</td>\n",
       "      <td>82.99</td>\n",
       "      <td>30.6</td>\n",
       "      <td>never smoked</td>\n",
       "      <td>0</td>\n",
       "    </tr>\n",
       "    <tr>\n",
       "      <th>5110</th>\n",
       "      <td>Male</td>\n",
       "      <td>51.0</td>\n",
       "      <td>0.0</td>\n",
       "      <td>0.0</td>\n",
       "      <td>Yes</td>\n",
       "      <td>Private</td>\n",
       "      <td>Rural</td>\n",
       "      <td>166.29</td>\n",
       "      <td>25.6</td>\n",
       "      <td>formerly smoked</td>\n",
       "      <td>0</td>\n",
       "    </tr>\n",
       "    <tr>\n",
       "      <th>5111</th>\n",
       "      <td>Female</td>\n",
       "      <td>44.0</td>\n",
       "      <td>0.0</td>\n",
       "      <td>0.0</td>\n",
       "      <td>Yes</td>\n",
       "      <td>Govt_job</td>\n",
       "      <td>NaN</td>\n",
       "      <td>85.28</td>\n",
       "      <td>26.2</td>\n",
       "      <td>Unknown</td>\n",
       "      <td>0</td>\n",
       "    </tr>\n",
       "  </tbody>\n",
       "</table>\n",
       "<p>5112 rows × 11 columns</p>\n",
       "</div>"
      ],
      "text/plain": [
       "      gender   age  hypertension  heart_disease  ever_married      work_type  \\\n",
       "0     gender   age  hypertension  heart_disease  ever_married      work_type   \n",
       "1     gender   age  hypertension  heart_disease  ever_married      work_type   \n",
       "2       Male  67.0           0.0            1.0           Yes        Private   \n",
       "3     Female  61.0           0.0            0.0           Yes  Self-employed   \n",
       "4       Male  80.0           0.0            1.0           Yes        Private   \n",
       "...      ...   ...           ...            ...           ...            ...   \n",
       "5107  Female  80.0           1.0            0.0           Yes        Private   \n",
       "5108  Female  81.0           0.0            0.0           Yes  Self-employed   \n",
       "5109  Female  35.0           0.0            0.0           Yes  Self-employed   \n",
       "5110    Male  51.0           0.0            0.0           Yes        Private   \n",
       "5111  Female  44.0           0.0            0.0           Yes       Govt_job   \n",
       "\n",
       "      Residence_type  avg_glucose_level   bmi   smoking_status  stroke  \n",
       "0     Residence_type  avg_glucose_level   bmi   smoking_status  stroke  \n",
       "1     Residence_type  avg_glucose_level   bmi   smoking_status  stroke  \n",
       "2              Urban             228.69   NaN  formerly smoked       1  \n",
       "3              Rural             202.21   NaN     never smoked       1  \n",
       "4                NaN             105.92  32.5     never smoked       1  \n",
       "...              ...                ...   ...              ...     ...  \n",
       "5107           Urban              83.75   NaN     never smoked       0  \n",
       "5108           Urban              125.2  40.0     never smoked       0  \n",
       "5109           Rural              82.99  30.6     never smoked       0  \n",
       "5110           Rural             166.29  25.6  formerly smoked       0  \n",
       "5111             NaN              85.28  26.2          Unknown       0  \n",
       "\n",
       "[5112 rows x 11 columns]"
      ]
     },
     "execution_count": 137,
     "metadata": {},
     "output_type": "execute_result"
    }
   ],
   "source": [
    "data"
   ]
  },
  {
   "cell_type": "code",
   "execution_count": 138,
   "metadata": {},
   "outputs": [],
   "source": [
    "df = data.drop(index=[0,1])"
   ]
  },
  {
   "cell_type": "code",
   "execution_count": 139,
   "metadata": {},
   "outputs": [
    {
     "name": "stdout",
     "output_type": "stream",
     "text": [
      "<class 'pandas.core.frame.DataFrame'>\n",
      "RangeIndex: 5110 entries, 2 to 5111\n",
      "Data columns (total 11 columns):\n",
      " #   Column             Non-Null Count  Dtype \n",
      "---  ------             --------------  ----- \n",
      " 0   gender             5110 non-null   object\n",
      " 1   age                4967 non-null   object\n",
      " 2   hypertension       4907 non-null   object\n",
      " 3   heart_disease      4282 non-null   object\n",
      " 4   ever_married       5110 non-null   object\n",
      " 5   work_type          4775 non-null   object\n",
      " 6   Residence_type     4306 non-null   object\n",
      " 7   avg_glucose_level  4622 non-null   object\n",
      " 8   bmi                4167 non-null   object\n",
      " 9   smoking_status     5110 non-null   object\n",
      " 10  stroke             5110 non-null   object\n",
      "dtypes: object(11)\n",
      "memory usage: 439.3+ KB\n"
     ]
    }
   ],
   "source": [
    "df.info()"
   ]
  },
  {
   "cell_type": "code",
   "execution_count": 140,
   "metadata": {},
   "outputs": [],
   "source": [
    "df = df.drop_duplicates(keep='first')"
   ]
  },
  {
   "cell_type": "code",
   "execution_count": 141,
   "metadata": {},
   "outputs": [
    {
     "data": {
      "text/plain": [
       "0    4857\n",
       "1     249\n",
       "Name: stroke, dtype: int64"
      ]
     },
     "execution_count": 141,
     "metadata": {},
     "output_type": "execute_result"
    }
   ],
   "source": [
    "df.stroke.value_counts()"
   ]
  },
  {
   "cell_type": "code",
   "execution_count": 142,
   "metadata": {},
   "outputs": [
    {
     "data": {
      "text/plain": [
       "0    4230\n",
       "1     247\n",
       "Name: stroke, dtype: int64"
      ]
     },
     "execution_count": 142,
     "metadata": {},
     "output_type": "execute_result"
    }
   ],
   "source": [
    "df.loc[df.work_type !='children'].stroke.value_counts()"
   ]
  },
  {
   "cell_type": "markdown",
   "metadata": {},
   "source": [
    "Из всех наблюдений по больным, всего 2 из них о детях, при этом всего детей 629. Организмы детей сильно отличаются от взрослых и зачастую требуют отдельных исследований, поэтому и стоит рассматривать эти две возрастные группы отдельно. На основании 2х случаев из 629 по детям, невозможно сделать достоверное исследование. Поэтому считаю целесообразным удалить наблюдения о детях и всю дальнейшую работу осуществлять только со взрослыми."
   ]
  },
  {
   "cell_type": "code",
   "execution_count": 143,
   "metadata": {},
   "outputs": [
    {
     "data": {
      "text/html": [
       "<div>\n",
       "<style scoped>\n",
       "    .dataframe tbody tr th:only-of-type {\n",
       "        vertical-align: middle;\n",
       "    }\n",
       "\n",
       "    .dataframe tbody tr th {\n",
       "        vertical-align: top;\n",
       "    }\n",
       "\n",
       "    .dataframe thead th {\n",
       "        text-align: right;\n",
       "    }\n",
       "</style>\n",
       "<table border=\"1\" class=\"dataframe\">\n",
       "  <thead>\n",
       "    <tr style=\"text-align: right;\">\n",
       "      <th></th>\n",
       "      <th>gender</th>\n",
       "      <th>age</th>\n",
       "      <th>hypertension</th>\n",
       "      <th>heart_disease</th>\n",
       "      <th>ever_married</th>\n",
       "      <th>work_type</th>\n",
       "      <th>Residence_type</th>\n",
       "      <th>avg_glucose_level</th>\n",
       "      <th>bmi</th>\n",
       "      <th>smoking_status</th>\n",
       "      <th>stroke</th>\n",
       "    </tr>\n",
       "  </thead>\n",
       "  <tbody>\n",
       "    <tr>\n",
       "      <th>164</th>\n",
       "      <td>Female</td>\n",
       "      <td>1.32</td>\n",
       "      <td>0.0</td>\n",
       "      <td>0.0</td>\n",
       "      <td>No</td>\n",
       "      <td>children</td>\n",
       "      <td>Urban</td>\n",
       "      <td>70.37</td>\n",
       "      <td>NaN</td>\n",
       "      <td>Unknown</td>\n",
       "      <td>1</td>\n",
       "    </tr>\n",
       "    <tr>\n",
       "      <th>247</th>\n",
       "      <td>Female</td>\n",
       "      <td>14.0</td>\n",
       "      <td>0.0</td>\n",
       "      <td>NaN</td>\n",
       "      <td>No</td>\n",
       "      <td>children</td>\n",
       "      <td>Rural</td>\n",
       "      <td>57.93</td>\n",
       "      <td>30.9</td>\n",
       "      <td>Unknown</td>\n",
       "      <td>1</td>\n",
       "    </tr>\n",
       "  </tbody>\n",
       "</table>\n",
       "</div>"
      ],
      "text/plain": [
       "     gender   age hypertension heart_disease ever_married work_type  \\\n",
       "164  Female  1.32          0.0           0.0           No  children   \n",
       "247  Female  14.0          0.0           NaN           No  children   \n",
       "\n",
       "    Residence_type avg_glucose_level   bmi smoking_status stroke  \n",
       "164          Urban             70.37   NaN        Unknown      1  \n",
       "247          Rural             57.93  30.9        Unknown      1  "
      ]
     },
     "execution_count": 143,
     "metadata": {},
     "output_type": "execute_result"
    }
   ],
   "source": [
    "df.loc[(df.work_type =='children') & (df.stroke == '1')]"
   ]
  },
  {
   "cell_type": "code",
   "execution_count": 144,
   "metadata": {},
   "outputs": [],
   "source": [
    "df = df.loc[df.work_type !='children'].reset_index(drop=True)"
   ]
  },
  {
   "cell_type": "code",
   "execution_count": 145,
   "metadata": {},
   "outputs": [
    {
     "data": {
      "image/png": "[encoded data removed]",
      "text/plain": [
       "<Figure size 432x288 with 1 Axes>"
      ]
     },
     "metadata": {
      "needs_background": "light"
     },
     "output_type": "display_data"
    }
   ],
   "source": [
    "x1 = df[df['gender'] == 'Female']['smoking_status']\n",
    "x2 = df[df['gender'] == 'Male']['smoking_status']\n",
    "plt.hist([x1, x2])\n",
    "plt.legend(('Female', 'Male'))\n",
    "plt.show()"
   ]
  },
  {
   "cell_type": "code",
   "execution_count": 146,
   "metadata": {},
   "outputs": [
    {
     "data": {
      "text/plain": [
       "Female    2693\n",
       "Male      1783\n",
       "Other        1\n",
       "Name: gender, dtype: int64"
      ]
     },
     "execution_count": 146,
     "metadata": {},
     "output_type": "execute_result"
    }
   ],
   "source": [
    "df.gender.value_counts()"
   ]
  },
  {
   "cell_type": "markdown",
   "metadata": {},
   "source": [
    "Наблюдений по людям женского пола больше в 1.5 раза, но при этом никогда не курящих женщин больше в 2 раза, чем мужчин. По неизвестным первоначальное отношение сохраняется. То есть процент мужчин курящих или ранее курящих по отношению к общему количеству больше, чем женщин."
   ]
  },
  {
   "cell_type": "code",
   "execution_count": 147,
   "metadata": {
    "scrolled": true
   },
   "outputs": [
    {
     "data": {
      "image/png": "[encoded data removed]",
      "text/plain": [
       "<Figure size 720x288 with 2 Axes>"
      ]
     },
     "metadata": {
      "needs_background": "light"
     },
     "output_type": "display_data"
    }
   ],
   "source": [
    "plt.subplots(figsize=(10, 4))\n",
    "sns.heatmap(pd.crosstab(df['stroke'], df['smoking_status']), cmap='coolwarm', linewidths=.1, fmt=\"d\", annot=True)\n",
    "plt.show()"
   ]
  },
  {
   "cell_type": "markdown",
   "metadata": {},
   "source": [
    "Дозаполним данные по медианным значениям для числовых признаков и модой для категориальных."
   ]
  },
  {
   "cell_type": "code",
   "execution_count": 148,
   "metadata": {},
   "outputs": [],
   "source": [
    "df.age = df.age.astype('float')\n",
    "df.avg_glucose_level = df.avg_glucose_level.astype('float')\n",
    "df.bmi = df.bmi.astype('float')"
   ]
  },
  {
   "cell_type": "code",
   "execution_count": 150,
   "metadata": {},
   "outputs": [],
   "source": [
    "def my_fill_nan(df):\n",
    "    for i in df.columns:\n",
    "        if df[i].dtype == 'float64':\n",
    "            df[i] = df[i].fillna(df[i].median())\n",
    "        else:\n",
    "            df[i] = df[i].fillna(df[i].mode()[0])\n",
    "    return df"
   ]
  },
  {
   "cell_type": "code",
   "execution_count": 151,
   "metadata": {},
   "outputs": [],
   "source": [
    "df = my_fill_nan(df)"
   ]
  },
  {
   "cell_type": "code",
   "execution_count": 152,
   "metadata": {},
   "outputs": [
    {
     "name": "stdout",
     "output_type": "stream",
     "text": [
      "<class 'pandas.core.frame.DataFrame'>\n",
      "RangeIndex: 4477 entries, 0 to 4476\n",
      "Data columns (total 11 columns):\n",
      " #   Column             Non-Null Count  Dtype  \n",
      "---  ------             --------------  -----  \n",
      " 0   gender             4477 non-null   object \n",
      " 1   age                4477 non-null   float64\n",
      " 2   hypertension       4477 non-null   object \n",
      " 3   heart_disease      4477 non-null   object \n",
      " 4   ever_married       4477 non-null   object \n",
      " 5   work_type          4477 non-null   object \n",
      " 6   Residence_type     4477 non-null   object \n",
      " 7   avg_glucose_level  4477 non-null   float64\n",
      " 8   bmi                4477 non-null   float64\n",
      " 9   smoking_status     4477 non-null   object \n",
      " 10  stroke             4477 non-null   object \n",
      "dtypes: float64(3), object(8)\n",
      "memory usage: 384.9+ KB\n"
     ]
    }
   ],
   "source": [
    "df.info()"
   ]
  },
  {
   "cell_type": "code",
   "execution_count": 153,
   "metadata": {},
   "outputs": [],
   "source": [
    "scaler = StandardScaler()\n",
    "df[['age', 'avg_glucose_level', 'bmi']] = scaler.fit_transform(df[['age', 'avg_glucose_level', 'bmi']])"
   ]
  },
  {
   "cell_type": "code",
   "execution_count": 154,
   "metadata": {},
   "outputs": [],
   "source": [
    "encoder = OrdinalEncoder()\n",
    "columns=['gender', 'hypertension', 'heart_disease', 'ever_married', 'work_type', 'Residence_type', 'smoking_status', 'stroke']\n",
    "df[columns] = pd.DataFrame(encoder.fit_transform(df[columns]), columns=columns)"
   ]
  },
  {
   "cell_type": "code",
   "execution_count": 155,
   "metadata": {
    "scrolled": false
   },
   "outputs": [
    {
     "data": {
      "text/html": [
       "<div>\n",
       "<style scoped>\n",
       "    .dataframe tbody tr th:only-of-type {\n",
       "        vertical-align: middle;\n",
       "    }\n",
       "\n",
       "    .dataframe tbody tr th {\n",
       "        vertical-align: top;\n",
       "    }\n",
       "\n",
       "    .dataframe thead th {\n",
       "        text-align: right;\n",
       "    }\n",
       "</style>\n",
       "<table border=\"1\" class=\"dataframe\">\n",
       "  <thead>\n",
       "    <tr style=\"text-align: right;\">\n",
       "      <th></th>\n",
       "      <th>gender</th>\n",
       "      <th>age</th>\n",
       "      <th>hypertension</th>\n",
       "      <th>heart_disease</th>\n",
       "      <th>ever_married</th>\n",
       "      <th>work_type</th>\n",
       "      <th>Residence_type</th>\n",
       "      <th>avg_glucose_level</th>\n",
       "      <th>bmi</th>\n",
       "      <th>smoking_status</th>\n",
       "      <th>stroke</th>\n",
       "    </tr>\n",
       "  </thead>\n",
       "  <tbody>\n",
       "    <tr>\n",
       "      <th>0</th>\n",
       "      <td>1.0</td>\n",
       "      <td>0.985527</td>\n",
       "      <td>0.0</td>\n",
       "      <td>1.0</td>\n",
       "      <td>1.0</td>\n",
       "      <td>2.0</td>\n",
       "      <td>1.0</td>\n",
       "      <td>2.728212</td>\n",
       "      <td>-0.148704</td>\n",
       "      <td>1.0</td>\n",
       "      <td>1.0</td>\n",
       "    </tr>\n",
       "    <tr>\n",
       "      <th>1</th>\n",
       "      <td>0.0</td>\n",
       "      <td>0.668282</td>\n",
       "      <td>0.0</td>\n",
       "      <td>0.0</td>\n",
       "      <td>1.0</td>\n",
       "      <td>3.0</td>\n",
       "      <td>0.0</td>\n",
       "      <td>2.138672</td>\n",
       "      <td>-0.148704</td>\n",
       "      <td>2.0</td>\n",
       "      <td>1.0</td>\n",
       "    </tr>\n",
       "    <tr>\n",
       "      <th>2</th>\n",
       "      <td>1.0</td>\n",
       "      <td>1.672892</td>\n",
       "      <td>0.0</td>\n",
       "      <td>1.0</td>\n",
       "      <td>1.0</td>\n",
       "      <td>2.0</td>\n",
       "      <td>1.0</td>\n",
       "      <td>-0.005092</td>\n",
       "      <td>0.371531</td>\n",
       "      <td>2.0</td>\n",
       "      <td>1.0</td>\n",
       "    </tr>\n",
       "    <tr>\n",
       "      <th>3</th>\n",
       "      <td>0.0</td>\n",
       "      <td>0.033791</td>\n",
       "      <td>0.0</td>\n",
       "      <td>0.0</td>\n",
       "      <td>1.0</td>\n",
       "      <td>2.0</td>\n",
       "      <td>1.0</td>\n",
       "      <td>1.448945</td>\n",
       "      <td>0.662250</td>\n",
       "      <td>3.0</td>\n",
       "      <td>1.0</td>\n",
       "    </tr>\n",
       "    <tr>\n",
       "      <th>4</th>\n",
       "      <td>0.0</td>\n",
       "      <td>1.620018</td>\n",
       "      <td>1.0</td>\n",
       "      <td>0.0</td>\n",
       "      <td>1.0</td>\n",
       "      <td>3.0</td>\n",
       "      <td>0.0</td>\n",
       "      <td>1.513287</td>\n",
       "      <td>-0.929056</td>\n",
       "      <td>2.0</td>\n",
       "      <td>1.0</td>\n",
       "    </tr>\n",
       "    <tr>\n",
       "      <th>...</th>\n",
       "      <td>...</td>\n",
       "      <td>...</td>\n",
       "      <td>...</td>\n",
       "      <td>...</td>\n",
       "      <td>...</td>\n",
       "      <td>...</td>\n",
       "      <td>...</td>\n",
       "      <td>...</td>\n",
       "      <td>...</td>\n",
       "      <td>...</td>\n",
       "      <td>...</td>\n",
       "    </tr>\n",
       "    <tr>\n",
       "      <th>4472</th>\n",
       "      <td>0.0</td>\n",
       "      <td>1.672892</td>\n",
       "      <td>1.0</td>\n",
       "      <td>0.0</td>\n",
       "      <td>1.0</td>\n",
       "      <td>2.0</td>\n",
       "      <td>1.0</td>\n",
       "      <td>-0.498676</td>\n",
       "      <td>-0.148704</td>\n",
       "      <td>2.0</td>\n",
       "      <td>0.0</td>\n",
       "    </tr>\n",
       "    <tr>\n",
       "      <th>4473</th>\n",
       "      <td>0.0</td>\n",
       "      <td>1.725766</td>\n",
       "      <td>0.0</td>\n",
       "      <td>0.0</td>\n",
       "      <td>1.0</td>\n",
       "      <td>3.0</td>\n",
       "      <td>1.0</td>\n",
       "      <td>0.424151</td>\n",
       "      <td>1.519107</td>\n",
       "      <td>2.0</td>\n",
       "      <td>0.0</td>\n",
       "    </tr>\n",
       "    <tr>\n",
       "      <th>4474</th>\n",
       "      <td>0.0</td>\n",
       "      <td>-0.706448</td>\n",
       "      <td>0.0</td>\n",
       "      <td>0.0</td>\n",
       "      <td>1.0</td>\n",
       "      <td>3.0</td>\n",
       "      <td>0.0</td>\n",
       "      <td>-0.515596</td>\n",
       "      <td>0.080811</td>\n",
       "      <td>2.0</td>\n",
       "      <td>0.0</td>\n",
       "    </tr>\n",
       "    <tr>\n",
       "      <th>4475</th>\n",
       "      <td>1.0</td>\n",
       "      <td>0.139540</td>\n",
       "      <td>0.0</td>\n",
       "      <td>0.0</td>\n",
       "      <td>1.0</td>\n",
       "      <td>2.0</td>\n",
       "      <td>0.0</td>\n",
       "      <td>1.338963</td>\n",
       "      <td>-0.684239</td>\n",
       "      <td>1.0</td>\n",
       "      <td>0.0</td>\n",
       "    </tr>\n",
       "    <tr>\n",
       "      <th>4476</th>\n",
       "      <td>0.0</td>\n",
       "      <td>-0.230580</td>\n",
       "      <td>0.0</td>\n",
       "      <td>0.0</td>\n",
       "      <td>1.0</td>\n",
       "      <td>0.0</td>\n",
       "      <td>1.0</td>\n",
       "      <td>-0.464612</td>\n",
       "      <td>-0.592433</td>\n",
       "      <td>0.0</td>\n",
       "      <td>0.0</td>\n",
       "    </tr>\n",
       "  </tbody>\n",
       "</table>\n",
       "<p>4477 rows × 11 columns</p>\n",
       "</div>"
      ],
      "text/plain": [
       "      gender       age  hypertension  heart_disease  ever_married  work_type  \\\n",
       "0        1.0  0.985527           0.0            1.0           1.0        2.0   \n",
       "1        0.0  0.668282           0.0            0.0           1.0        3.0   \n",
       "2        1.0  1.672892           0.0            1.0           1.0        2.0   \n",
       "3        0.0  0.033791           0.0            0.0           1.0        2.0   \n",
       "4        0.0  1.620018           1.0            0.0           1.0        3.0   \n",
       "...      ...       ...           ...            ...           ...        ...   \n",
       "4472     0.0  1.672892           1.0            0.0           1.0        2.0   \n",
       "4473     0.0  1.725766           0.0            0.0           1.0        3.0   \n",
       "4474     0.0 -0.706448           0.0            0.0           1.0        3.0   \n",
       "4475     1.0  0.139540           0.0            0.0           1.0        2.0   \n",
       "4476     0.0 -0.230580           0.0            0.0           1.0        0.0   \n",
       "\n",
       "      Residence_type  avg_glucose_level       bmi  smoking_status  stroke  \n",
       "0                1.0           2.728212 -0.148704             1.0     1.0  \n",
       "1                0.0           2.138672 -0.148704             2.0     1.0  \n",
       "2                1.0          -0.005092  0.371531             2.0     1.0  \n",
       "3                1.0           1.448945  0.662250             3.0     1.0  \n",
       "4                0.0           1.513287 -0.929056             2.0     1.0  \n",
       "...              ...                ...       ...             ...     ...  \n",
       "4472             1.0          -0.498676 -0.148704             2.0     0.0  \n",
       "4473             1.0           0.424151  1.519107             2.0     0.0  \n",
       "4474             0.0          -0.515596  0.080811             2.0     0.0  \n",
       "4475             0.0           1.338963 -0.684239             1.0     0.0  \n",
       "4476             1.0          -0.464612 -0.592433             0.0     0.0  \n",
       "\n",
       "[4477 rows x 11 columns]"
      ]
     },
     "execution_count": 155,
     "metadata": {},
     "output_type": "execute_result"
    }
   ],
   "source": [
    "df"
   ]
  },
  {
   "cell_type": "code",
   "execution_count": 156,
   "metadata": {},
   "outputs": [],
   "source": [
    "undersample = NearMiss(version=2)\n",
    "X = df.drop('stroke', axis=1)\n",
    "y = df.stroke\n",
    "X, y = undersample.fit_resample(X, y)"
   ]
  },
  {
   "cell_type": "code",
   "execution_count": 157,
   "metadata": {},
   "outputs": [],
   "source": [
    "X_train, X_test, y_train, y_test = train_test_split(X, y, test_size=0.2, random_state=42)"
   ]
  },
  {
   "cell_type": "code",
   "execution_count": 158,
   "metadata": {},
   "outputs": [
    {
     "name": "stdout",
     "output_type": "stream",
     "text": [
      "              precision    recall  f1-score   support\n",
      "\n",
      "         0.0       0.78      0.96      0.86        51\n",
      "         1.0       0.94      0.71      0.81        48\n",
      "\n",
      "    accuracy                           0.84        99\n",
      "   macro avg       0.86      0.83      0.83        99\n",
      "weighted avg       0.86      0.84      0.84        99\n",
      "\n"
     ]
    }
   ],
   "source": [
    "RFC = RandomForestClassifier()\n",
    "RFC.fit(X_train, y_train)\n",
    "y_pred = RFC.predict(X_test)\n",
    "print(classification_report(y_test, y_pred))"
   ]
  },
  {
   "cell_type": "code",
   "execution_count": 194,
   "metadata": {},
   "outputs": [
    {
     "name": "stdout",
     "output_type": "stream",
     "text": [
      "              precision    recall  f1-score   support\n",
      "\n",
      "         0.0       0.81      0.92      0.86        51\n",
      "         1.0       0.90      0.77      0.83        48\n",
      "\n",
      "    accuracy                           0.85        99\n",
      "   macro avg       0.86      0.85      0.85        99\n",
      "weighted avg       0.85      0.85      0.85        99\n",
      "\n"
     ]
    }
   ],
   "source": [
    "grid_searcher = GridSearchCV(RandomForestClassifier(), param_grid={'n_estimators': range(25, 301, 25),\n",
    "                                                                   'max_features': ['log2', 'sqrt'],\n",
    "                                                                   'max_depth': range(5, 14, 1)\n",
    "                                                                  })\n",
    "grid_searcher.fit(X_train, y_train)\n",
    "y_pred_grid = grid_searcher.predict(X_test)\n",
    "print(classification_report(y_test, y_pred_grid))"
   ]
  },
  {
   "cell_type": "code",
   "execution_count": 289,
   "metadata": {},
   "outputs": [
    {
     "name": "stdout",
     "output_type": "stream",
     "text": [
      "              precision    recall  f1-score   support\n",
      "\n",
      "         0.0       0.79      0.94      0.86        51\n",
      "         1.0       0.92      0.73      0.81        48\n",
      "\n",
      "    accuracy                           0.84        99\n",
      "   macro avg       0.85      0.84      0.84        99\n",
      "weighted avg       0.85      0.84      0.84        99\n",
      "\n"
     ]
    }
   ],
   "source": [
    "XGb = XGBClassifier(eval_metric='logloss', use_label_encoder=False)\n",
    "XGb.fit(X_train, y_train)\n",
    "y_pred = XGb.predict(X_test)\n",
    "print(classification_report(y_test, y_pred))"
   ]
  },
  {
   "cell_type": "code",
   "execution_count": 202,
   "metadata": {},
   "outputs": [
    {
     "name": "stdout",
     "output_type": "stream",
     "text": [
      "              precision    recall  f1-score   support\n",
      "\n",
      "         0.0       0.77      0.96      0.85        51\n",
      "         1.0       0.94      0.69      0.80        48\n",
      "\n",
      "    accuracy                           0.83        99\n",
      "   macro avg       0.85      0.82      0.82        99\n",
      "weighted avg       0.85      0.83      0.82        99\n",
      "\n"
     ]
    }
   ],
   "source": [
    "grid_searcher = GridSearchCV(XGBClassifier(), param_grid={'use_label_encoder': [False],\n",
    "                                                          'eval_metric': ['logloss'],\n",
    "                                                          'n_estimators': range(10, 301, 5),\n",
    "                                                          'max_depth': range(5, 15, 1)\n",
    "                                                         })\n",
    "grid_searcher.fit(X_train, y_train)\n",
    "y_pred_grid = grid_searcher.predict(X_test)\n",
    "print(classification_report(y_test, y_pred_grid))"
   ]
  },
  {
   "cell_type": "code",
   "execution_count": 245,
   "metadata": {},
   "outputs": [
    {
     "name": "stdout",
     "output_type": "stream",
     "text": [
      "              precision    recall  f1-score   support\n",
      "\n",
      "         0.0       0.80      0.96      0.88        51\n",
      "         1.0       0.95      0.75      0.84        48\n",
      "\n",
      "    accuracy                           0.86        99\n",
      "   macro avg       0.88      0.86      0.86        99\n",
      "weighted avg       0.87      0.86      0.86        99\n",
      "\n"
     ]
    }
   ],
   "source": [
    "clf = CatBoostClassifier()\n",
    "clf.fit(X_train, y_train, verbose=False)\n",
    "y_pred = clf.predict(X_test)\n",
    "print(classification_report(y_test, y_pred))"
   ]
  },
  {
   "cell_type": "code",
   "execution_count": 284,
   "metadata": {},
   "outputs": [
    {
     "name": "stdout",
     "output_type": "stream",
     "text": [
      "              precision    recall  f1-score   support\n",
      "\n",
      "         0.0       0.83      0.96      0.89        51\n",
      "         1.0       0.95      0.79      0.86        48\n",
      "\n",
      "    accuracy                           0.88        99\n",
      "   macro avg       0.89      0.88      0.88        99\n",
      "weighted avg       0.89      0.88      0.88        99\n",
      "\n"
     ]
    }
   ],
   "source": [
    "column = ['hypertension', 'bmi'] # подобрано методом удаления по одному столбцу до улучшения показателей метрик\n",
    "X_train2, X_test2 = X_train.drop(column, axis=1), X_test.drop(column, axis=1)\n",
    "clf = CatBoostClassifier()\n",
    "clf.fit(X_train2, y_train, verbose=False)\n",
    "y_pred = clf.predict(X_test2)\n",
    "print(classification_report(y_test, y_pred))"
   ]
  },
  {
   "cell_type": "code",
   "execution_count": null,
   "metadata": {},
   "outputs": [],
   "source": []
  }
 ],
 "metadata": {
  "colab": {
   "collapsed_sections": [],
   "provenance": []
  },
  "kernelspec": {
   "display_name": "Python 3 (ipykernel)",
   "language": "python",
   "name": "python3"
  },
  "language_info": {
   "codemirror_mode": {
    "name": "ipython",
    "version": 3
   },
   "file_extension": ".py",
   "mimetype": "text/x-python",
   "name": "python",
   "nbconvert_exporter": "python",
   "pygments_lexer": "ipython3",
   "version": "3.9.12"
  }
 },
 "nbformat": 4,
 "nbformat_minor": 1
}
